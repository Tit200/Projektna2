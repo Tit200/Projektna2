{
 "cells": [
  {
   "cell_type": "markdown",
   "metadata": {},
   "source": [
    "# ANALIZA PODATKOV IZ KNJIGE  "
   ]
  },
  {
   "cell_type": "code",
   "execution_count": 224,
   "metadata": {},
   "outputs": [],
   "source": [
    "\n",
    "%matplotlib inline\n",
    "import matplotlib.pyplot as plt \n",
    "import pandas as pd \n",
    "import numpy as np\n",
    "\n",
    "pd.options.display.max_rows = 10\n",
    "\n"
   ]
  },
  {
   "cell_type": "code",
   "execution_count": 225,
   "metadata": {},
   "outputs": [],
   "source": [
    "Top100knj = pd.read_csv('.\\csv_file_1_1.csv', index_col='Top sto besed')\n",
    "Top100D1= pd.read_csv('.\\csv_file_1_2.csv', index_col='Top sto besed')\n",
    "Top100D2 = pd.read_csv('.\\csv_file_1_3.csv', index_col='Top sto besed')\n",
    "Top100D3= pd.read_csv('.\\csv_file_1_4.csv', index_col='Top sto besed')\n",
    "Top100D4 = pd.read_csv('.\\csv_file_1_5.csv', index_col='Top sto besed')\n",
    "Top100D5 = pd.read_csv('.\\csv_file_1_6.csv', index_col='Top sto besed')\n",
    "PoPoglav = pd.read_csv('.\\csv_file_2.csv', index_col='St. poglavja')"
   ]
  },
  {
   "cell_type": "markdown",
   "metadata": {},
   "source": [
    "## Hipoteze:\n",
    "- Moja hipoteza glede na najpogostejše besede je, da bo med njimi verjetno beseda \"som\", ki pomeni \"ki/kot\" ter morda \"Han\" ali \"Hun\", ki pomenita \"On\" ali \"Ona\",\n",
    "- sklepam, da bo tema poglavja vplivala na pojavitve besed in da bo pomen teh besed vezan (vsaj do neke mere) na temo poglavja,\n",
    "- sklepam, da bo največkrat omenjen \"Harry Hole\" oz. katerakoli izmed \"Harry\" in \"Hole\", saj je to glavni karakter, verjetno bo zelo pogosta tudi beseda \"detektiv\" (isti pomen v slo.),\n",
    "- na to katero poglavje vsebuje največ besed ne moram sklepati, lahko pa ugibam, da bo največ besed vseboval Del 4, saj vsebuje največ poglavij,\n",
    "- sklepam lahko, glede na to, da je knjiga kar obsežna (kriminalni roman), da se bo frekvenca pojavitev črk kar dobro ujemala s predvideno statistiko na zgoraj omenjenem linku."
   ]
  },
  {
   "cell_type": "markdown",
   "metadata": {},
   "source": [
    "## Grafi frekvenc top 100 besed v knjigi "
   ]
  },
  {
   "cell_type": "markdown",
   "metadata": {},
   "source": [
    "### Tabela top 100 besed po delih ter njihova frekvenca"
   ]
  },
  {
   "cell_type": "markdown",
   "metadata": {},
   "source": [
    "Tukaj je tabela v kateri je nanizanih prvih 100 najpogostejših besed v celotni knjigi ter zraven kolikokrat se pojavijo v celotni knjigi."
   ]
  },
  {
   "cell_type": "code",
   "execution_count": 226,
   "metadata": {},
   "outputs": [
    {
     "data": {
      "text/html": [
       "<div>\n",
       "<style scoped>\n",
       "    .dataframe tbody tr th:only-of-type {\n",
       "        vertical-align: middle;\n",
       "    }\n",
       "\n",
       "    .dataframe tbody tr th {\n",
       "        vertical-align: top;\n",
       "    }\n",
       "\n",
       "    .dataframe thead th {\n",
       "        text-align: right;\n",
       "    }\n",
       "</style>\n",
       "<table border=\"1\" class=\"dataframe\">\n",
       "  <thead>\n",
       "    <tr style=\"text-align: right;\">\n",
       "      <th></th>\n",
       "      <th>Frekvenca besed v celotni knjigi</th>\n",
       "    </tr>\n",
       "    <tr>\n",
       "      <th>Top sto besed</th>\n",
       "      <th></th>\n",
       "    </tr>\n",
       "  </thead>\n",
       "  <tbody>\n",
       "    <tr>\n",
       "      <th>og</th>\n",
       "      <td>4352</td>\n",
       "    </tr>\n",
       "    <tr>\n",
       "      <th>det</th>\n",
       "      <td>3453</td>\n",
       "    </tr>\n",
       "    <tr>\n",
       "      <th>på</th>\n",
       "      <td>3029</td>\n",
       "    </tr>\n",
       "    <tr>\n",
       "      <th>han</th>\n",
       "      <td>2965</td>\n",
       "    </tr>\n",
       "    <tr>\n",
       "      <th>i</th>\n",
       "      <td>2769</td>\n",
       "    </tr>\n",
       "    <tr>\n",
       "      <th>...</th>\n",
       "      <td>...</td>\n",
       "    </tr>\n",
       "    <tr>\n",
       "      <th>skarre</th>\n",
       "      <td>160</td>\n",
       "    </tr>\n",
       "    <tr>\n",
       "      <th>hodet</th>\n",
       "      <td>159</td>\n",
       "    </tr>\n",
       "    <tr>\n",
       "      <th>under</th>\n",
       "      <td>153</td>\n",
       "    </tr>\n",
       "    <tr>\n",
       "      <th>hagen</th>\n",
       "      <td>152</td>\n",
       "    </tr>\n",
       "    <tr>\n",
       "      <th>jo</th>\n",
       "      <td>152</td>\n",
       "    </tr>\n",
       "  </tbody>\n",
       "</table>\n",
       "<p>100 rows × 1 columns</p>\n",
       "</div>"
      ],
      "text/plain": [
       "               Frekvenca besed v celotni knjigi\n",
       "Top sto besed                                  \n",
       "og                                         4352\n",
       "det                                        3453\n",
       "på                                         3029\n",
       "han                                        2965\n",
       "i                                          2769\n",
       "...                                         ...\n",
       "skarre                                      160\n",
       "hodet                                       159\n",
       "under                                       153\n",
       "hagen                                       152\n",
       "jo                                          152\n",
       "\n",
       "[100 rows x 1 columns]"
      ]
     },
     "execution_count": 226,
     "metadata": {},
     "output_type": "execute_result"
    }
   ],
   "source": [
    "Top100knj "
   ]
  },
  {
   "cell_type": "markdown",
   "metadata": {},
   "source": [
    "Komentar 1: \\\n",
    "Opazim, da med prvimi sto besedami res so te \"osnovne besede\", ki sem jih uganil v hipotezi, prav tako so še ostale zelo popularne besede kot so npr. \"og - in\", \"det - to/ta/tisto\", \"på -na/nad\", \"han- on\" \"i -v/notri\".  Medtem pa tudi nižje v tabeli na zadnjih 90. - 100. mestih najdemo besede kot so; \"hodet- glava\", \"under - pod/spodaj\", \"hagen- vrt\". Ostale zanimive besede najdete v .csv datotekah.\n",
    "\\\n",
    "\\\n",
    "Prav tako vidimo, da med top 100 besedami na 15. mestu najdemo ime glavne osebe; Harry, kar nakazuje na to, da se v knjigah kjer nastopa centralna oseba, njeno ime pojavi v taki pogostosti kot zelo primarne besede kot so \"ne (ikke)\", \"ona (hun)\" , \"je (er)\", kar je zelo zanimivo in kontra-intuitivno."
   ]
  },
  {
   "cell_type": "markdown",
   "metadata": {},
   "source": [
    "Komentar 2: Takšne tabele bi morda zelo koristile začetnikom, ki se učijo nov jezik, zraven bi pa sicer morali pripisati prevode."
   ]
  },
  {
   "cell_type": "markdown",
   "metadata": {},
   "source": [
    "### Prvih sto besed glede na dele"
   ]
  },
  {
   "cell_type": "markdown",
   "metadata": {},
   "source": [
    "Tukaj pa imamo top sto besed od prej ter pogledamo kolikokrat se pojavijo v posameznih delih 1 - 5 ter lahko pogledamo, če sledijo kakem vzorcu, če so približno enakomerno razdeljene po delih etc."
   ]
  },
  {
   "cell_type": "code",
   "execution_count": 238,
   "metadata": {},
   "outputs": [
    {
     "data": {
      "text/html": [
       "<div>\n",
       "<style scoped>\n",
       "    .dataframe tbody tr th:only-of-type {\n",
       "        vertical-align: middle;\n",
       "    }\n",
       "\n",
       "    .dataframe tbody tr th {\n",
       "        vertical-align: top;\n",
       "    }\n",
       "\n",
       "    .dataframe thead th {\n",
       "        text-align: right;\n",
       "    }\n",
       "</style>\n",
       "<table border=\"1\" class=\"dataframe\">\n",
       "  <thead>\n",
       "    <tr style=\"text-align: right;\">\n",
       "      <th></th>\n",
       "      <th>Frekvenca besed v DELU I</th>\n",
       "      <th>Frekvenca besed v DELU II</th>\n",
       "      <th>Frekvenca besed v DELU III</th>\n",
       "      <th>Frekvenca besed v DELU IV</th>\n",
       "      <th>Frekvenca besed v DELU V</th>\n",
       "    </tr>\n",
       "    <tr>\n",
       "      <th>Top sto besed</th>\n",
       "      <th></th>\n",
       "      <th></th>\n",
       "      <th></th>\n",
       "      <th></th>\n",
       "      <th></th>\n",
       "    </tr>\n",
       "  </thead>\n",
       "  <tbody>\n",
       "    <tr>\n",
       "      <th>og</th>\n",
       "      <td>1004</td>\n",
       "      <td>770</td>\n",
       "      <td>578</td>\n",
       "      <td>1315</td>\n",
       "      <td>685</td>\n",
       "    </tr>\n",
       "    <tr>\n",
       "      <th>det</th>\n",
       "      <td>753</td>\n",
       "      <td>654</td>\n",
       "      <td>492</td>\n",
       "      <td>1039</td>\n",
       "      <td>515</td>\n",
       "    </tr>\n",
       "    <tr>\n",
       "      <th>på</th>\n",
       "      <td>610</td>\n",
       "      <td>600</td>\n",
       "      <td>438</td>\n",
       "      <td>947</td>\n",
       "      <td>434</td>\n",
       "    </tr>\n",
       "    <tr>\n",
       "      <th>han</th>\n",
       "      <td>588</td>\n",
       "      <td>463</td>\n",
       "      <td>392</td>\n",
       "      <td>943</td>\n",
       "      <td>579</td>\n",
       "    </tr>\n",
       "    <tr>\n",
       "      <th>i</th>\n",
       "      <td>652</td>\n",
       "      <td>496</td>\n",
       "      <td>351</td>\n",
       "      <td>830</td>\n",
       "      <td>440</td>\n",
       "    </tr>\n",
       "    <tr>\n",
       "      <th>...</th>\n",
       "      <td>...</td>\n",
       "      <td>...</td>\n",
       "      <td>...</td>\n",
       "      <td>...</td>\n",
       "      <td>...</td>\n",
       "    </tr>\n",
       "    <tr>\n",
       "      <th>skarre</th>\n",
       "      <td>74</td>\n",
       "      <td>27</td>\n",
       "      <td>26</td>\n",
       "      <td>14</td>\n",
       "      <td>19</td>\n",
       "    </tr>\n",
       "    <tr>\n",
       "      <th>hodet</th>\n",
       "      <td>19</td>\n",
       "      <td>31</td>\n",
       "      <td>16</td>\n",
       "      <td>61</td>\n",
       "      <td>32</td>\n",
       "    </tr>\n",
       "    <tr>\n",
       "      <th>under</th>\n",
       "      <td>39</td>\n",
       "      <td>17</td>\n",
       "      <td>15</td>\n",
       "      <td>49</td>\n",
       "      <td>33</td>\n",
       "    </tr>\n",
       "    <tr>\n",
       "      <th>hagen</th>\n",
       "      <td>29</td>\n",
       "      <td>27</td>\n",
       "      <td>36</td>\n",
       "      <td>29</td>\n",
       "      <td>31</td>\n",
       "    </tr>\n",
       "    <tr>\n",
       "      <th>jo</th>\n",
       "      <td>27</td>\n",
       "      <td>36</td>\n",
       "      <td>24</td>\n",
       "      <td>44</td>\n",
       "      <td>21</td>\n",
       "    </tr>\n",
       "  </tbody>\n",
       "</table>\n",
       "<p>100 rows × 5 columns</p>\n",
       "</div>"
      ],
      "text/plain": [
       "               Frekvenca besed v DELU I  Frekvenca besed v DELU II  \\\n",
       "Top sto besed                                                        \n",
       "og                                 1004                        770   \n",
       "det                                 753                        654   \n",
       "på                                  610                        600   \n",
       "han                                 588                        463   \n",
       "i                                   652                        496   \n",
       "...                                 ...                        ...   \n",
       "skarre                               74                         27   \n",
       "hodet                                19                         31   \n",
       "under                                39                         17   \n",
       "hagen                                29                         27   \n",
       "jo                                   27                         36   \n",
       "\n",
       "               Frekvenca besed v DELU III  Frekvenca besed v DELU IV  \\\n",
       "Top sto besed                                                          \n",
       "og                                    578                       1315   \n",
       "det                                   492                       1039   \n",
       "på                                    438                        947   \n",
       "han                                   392                        943   \n",
       "i                                     351                        830   \n",
       "...                                   ...                        ...   \n",
       "skarre                                 26                         14   \n",
       "hodet                                  16                         61   \n",
       "under                                  15                         49   \n",
       "hagen                                  36                         29   \n",
       "jo                                     24                         44   \n",
       "\n",
       "               Frekvenca besed v DELU V  \n",
       "Top sto besed                            \n",
       "og                                  685  \n",
       "det                                 515  \n",
       "på                                  434  \n",
       "han                                 579  \n",
       "i                                   440  \n",
       "...                                 ...  \n",
       "skarre                               19  \n",
       "hodet                                32  \n",
       "under                                33  \n",
       "hagen                                31  \n",
       "jo                                   21  \n",
       "\n",
       "[100 rows x 5 columns]"
      ]
     },
     "execution_count": 238,
     "metadata": {},
     "output_type": "execute_result"
    }
   ],
   "source": [
    "m1 = pd.merge(Top100D1, Top100D2, on='Top sto besed')\n",
    "m2 = pd.merge(m1, Top100D3, on='Top sto besed')\n",
    "m3 = pd.merge(m2, Top100D4, on='Top sto besed')\n",
    "Top_Besede = pd.merge(m3, Top100D5, on='Top sto besed')\n",
    "\n",
    "Top_Besede\n"
   ]
  },
  {
   "cell_type": "markdown",
   "metadata": {},
   "source": [
    "Tukaj je prikazana tabela teh povprečnih vrednosti za posamezno besedo, spodaj pa še graf za lažjo predstavo."
   ]
  },
  {
   "cell_type": "code",
   "execution_count": 239,
   "metadata": {},
   "outputs": [
    {
     "data": {
      "text/plain": [
       "Top sto besed\n",
       "og        870.4\n",
       "det       690.6\n",
       "på        605.8\n",
       "han       593.0\n",
       "i         553.8\n",
       "          ...  \n",
       "skarre     32.0\n",
       "hodet      31.8\n",
       "under      30.6\n",
       "hagen      30.4\n",
       "jo         30.4\n",
       "Length: 100, dtype: float64"
      ]
     },
     "execution_count": 239,
     "metadata": {},
     "output_type": "execute_result"
    }
   ],
   "source": [
    "Povprecje = Top_Besede.mean(axis=1)\n",
    "Povprecje"
   ]
  },
  {
   "cell_type": "code",
   "execution_count": 233,
   "metadata": {},
   "outputs": [
    {
     "data": {
      "text/plain": [
       "<AxesSubplot:xlabel='Top sto besed'>"
      ]
     },
     "execution_count": 233,
     "metadata": {},
     "output_type": "execute_result"
    },
    {
     "data": {
      "image/png": "[encoded data removed]",
      "text/plain": [
       "<Figure size 432x288 with 1 Axes>"
      ]
     },
     "metadata": {
      "needs_background": "light"
     },
     "output_type": "display_data"
    }
   ],
   "source": [
    "Povprecje.plot(kind=\"bar\", xticks=())"
   ]
  },
  {
   "cell_type": "markdown",
   "metadata": {},
   "source": [
    "Ta graf sam po sebi nam ne pove veliko, treba si bo pogledati grafe, ki prikazejo kolikokrat se beseda pojavi v določenem delu, ter jih vse pogledati v skupnem koordinatnem sistemu:"
   ]
  },
  {
   "cell_type": "markdown",
   "metadata": {},
   "source": [
    "### Graf 1:\n",
    "Višina grafov predstavlja št. pojavitev top 100 besed glede na dele."
   ]
  },
  {
   "cell_type": "code",
   "execution_count": null,
   "metadata": {},
   "outputs": [
    {
     "data": {
      "text/plain": [
       "<AxesSubplot:xlabel='Top sto besed'>"
      ]
     },
     "execution_count": 204,
     "metadata": {},
     "output_type": "execute_result"
    },
    {
     "data": {
      "image/png": "[encoded data removed]",
      "text/plain": [
       "<Figure size 432x288 with 1 Axes>"
      ]
     },
     "metadata": {
      "needs_background": "light"
     },
     "output_type": "display_data"
    }
   ],
   "source": [
    "Top_Besede.plot()"
   ]
  },
  {
   "cell_type": "markdown",
   "metadata": {},
   "source": [
    "### Graf 2:\n",
    "Barve(površine) predstavljajo št. pojavitev top 100 besed glede na dele."
   ]
  },
  {
   "cell_type": "code",
   "execution_count": null,
   "metadata": {},
   "outputs": [
    {
     "data": {
      "text/plain": [
       "<AxesSubplot:xlabel='Top sto besed'>"
      ]
     },
     "execution_count": 195,
     "metadata": {},
     "output_type": "execute_result"
    },
    {
     "data": {
      "image/png": "[encoded data removed]",
      "text/plain": [
       "<Figure size 432x288 with 1 Axes>"
      ]
     },
     "metadata": {
      "needs_background": "light"
     },
     "output_type": "display_data"
    }
   ],
   "source": [
    "Top_Besede.plot.area()\n"
   ]
  },
  {
   "cell_type": "markdown",
   "metadata": {},
   "source": [
    "V tem grafu je dosti bolj pregledno bistvo. Iz grafa dobimo občutek za dolžino posameznih delov. Npr. opazimo, da je rdeč graf (frekvenca besed v DELU IV) kar pošteno nad ostalimi v smislu tega, kolikokrat se pojavijo najpogostejše besede. To bi nam lahko dalo misliti, da je 4. Del najdaljši, ostali zgledajo dokaj podobni v dolžinah. To lahko potrdimo s tem, da si pogledamo koliko besed je dejansko v teh posameznih delih:\n",
    "\n",
    "Python koda:\n",
    "(>>> kolicina_vseh_besed \\\n",
    "129403)\n",
    "\n",
    "Vemo, da je kolicina vseh besed (v knjigi) = 129 403\n",
    "\n",
    "Python koda:\n",
    "(>>> seznam_stevila_besed_v_delih \\\n",
    "[27957, 23856, 17750, 40313, 19523])\n",
    "\n",
    "1. del I  = 27957,\n",
    "2. del II = 23856,\n",
    "3. del III= 17750,\n",
    "4. del IV = 40313,\n",
    "5. del V  = 19523,\n",
    "\n",
    "od tod vidimo, da je res 4. del knjige daleč najdaljši (rdeč graf) ter ne daleč za njim 1. del (moder graf), kar je razvidno iz glavnega grafa (mešanega), ostali grafi 2. , 3. in 5. dela so po številu črk dokaj podobni, a se še vseeno vidi, da je 2. del (oranžen) rahlo nad ostalima. To nam namigne, da je dolžina dela dobro korelirana s tem kako pogosto je uporabljenih 100 najpogostejših črk v knjigi. To sklepam, da zato, ker imamo ljudje v jeziku določene besede, ki jih radi uporabljamo večkrat kot ostale, npr. v slovenščini bo večkrat zaslediti besedo \"zato\" kot pa besedo \"gospodinjski\" in je zatorej beseda \"zato\" boljše merilo za to, kako dolgi so deli knjige (v primerjavi z ostalimi)."
   ]
  },
  {
   "cell_type": "markdown",
   "metadata": {},
   "source": [
    "Komentar: \\\n",
    "V hipotezi sem imel idejo o tem, da bi morda dolžine delov imele kaj v zvezi s temo. Sedaj, ko je razvidno, da sta najdaljša 1. in 4. del, lahko sklepam, da je 1. del dolg, zaradi tega, ker poteka v njem ogromno vpeljave novih karakterjev/oseb ter se bralca seznanja s prizorišči/okoljem, 4. del pa je zdaleč najdaljši, ker do takrat napetost v knjigi najbolj naraste, se spozna morilca in ga lovijo/vlovijo, kar terja precej besed. Torej to hipotezo bi potrdil."
   ]
  },
  {
   "cell_type": "markdown",
   "metadata": {},
   "source": [
    "## Analiza besed glede na poglavja"
   ]
  },
  {
   "cell_type": "markdown",
   "metadata": {},
   "source": [
    "Tukaj bomo zapustili koncept najpogostejših 100 besed ter si pogledali zgolj količino besed glede na poglavje. \n",
    "Spodaj vidite tabelo v kateri so poglavja oštevilčena po vrstnem redu, zraven naslov ter število besed v tem poglavju."
   ]
  },
  {
   "cell_type": "code",
   "execution_count": null,
   "metadata": {},
   "outputs": [
    {
     "data": {
      "text/html": [
       "<div>\n",
       "<style scoped>\n",
       "    .dataframe tbody tr th:only-of-type {\n",
       "        vertical-align: middle;\n",
       "    }\n",
       "\n",
       "    .dataframe tbody tr th {\n",
       "        vertical-align: top;\n",
       "    }\n",
       "\n",
       "    .dataframe thead th {\n",
       "        text-align: right;\n",
       "    }\n",
       "</style>\n",
       "<table border=\"1\" class=\"dataframe\">\n",
       "  <thead>\n",
       "    <tr style=\"text-align: right;\">\n",
       "      <th></th>\n",
       "      <th>Naslov poglavja</th>\n",
       "      <th>St. besed v poglavju</th>\n",
       "    </tr>\n",
       "    <tr>\n",
       "      <th>St. poglavja</th>\n",
       "      <th></th>\n",
       "      <th></th>\n",
       "    </tr>\n",
       "  </thead>\n",
       "  <tbody>\n",
       "    <tr>\n",
       "      <th>1</th>\n",
       "      <td>Snømannen</td>\n",
       "      <td>1629</td>\n",
       "    </tr>\n",
       "    <tr>\n",
       "      <th>2</th>\n",
       "      <td>Grusøynene</td>\n",
       "      <td>5276</td>\n",
       "    </tr>\n",
       "    <tr>\n",
       "      <th>3</th>\n",
       "      <td>Cochenille</td>\n",
       "      <td>2686</td>\n",
       "    </tr>\n",
       "    <tr>\n",
       "      <th>4</th>\n",
       "      <td>Forsvinningen</td>\n",
       "      <td>2861</td>\n",
       "    </tr>\n",
       "    <tr>\n",
       "      <th>5</th>\n",
       "      <td>Totempælen</td>\n",
       "      <td>3494</td>\n",
       "    </tr>\n",
       "    <tr>\n",
       "      <th>...</th>\n",
       "      <td>...</td>\n",
       "      <td>...</td>\n",
       "    </tr>\n",
       "    <tr>\n",
       "      <th>34</th>\n",
       "      <td>Sirener</td>\n",
       "      <td>2651</td>\n",
       "    </tr>\n",
       "    <tr>\n",
       "      <th>35</th>\n",
       "      <td>Monster</td>\n",
       "      <td>5782</td>\n",
       "    </tr>\n",
       "    <tr>\n",
       "      <th>36</th>\n",
       "      <td>Tårnet</td>\n",
       "      <td>2120</td>\n",
       "    </tr>\n",
       "    <tr>\n",
       "      <th>37</th>\n",
       "      <td>Pappa</td>\n",
       "      <td>222</td>\n",
       "    </tr>\n",
       "    <tr>\n",
       "      <th>38</th>\n",
       "      <td>Svanene</td>\n",
       "      <td>1735</td>\n",
       "    </tr>\n",
       "  </tbody>\n",
       "</table>\n",
       "<p>38 rows × 2 columns</p>\n",
       "</div>"
      ],
      "text/plain": [
       "             Naslov poglavja  St. besed v poglavju\n",
       "St. poglavja                                      \n",
       "1                  Snømannen                  1629\n",
       "2                 Grusøynene                  5276\n",
       "3                 Cochenille                  2686\n",
       "4              Forsvinningen                  2861\n",
       "5                 Totempælen                  3494\n",
       "...                      ...                   ...\n",
       "34                   Sirener                  2651\n",
       "35                   Monster                  5782\n",
       "36                    Tårnet                  2120\n",
       "37                     Pappa                   222\n",
       "38                   Svanene                  1735\n",
       "\n",
       "[38 rows x 2 columns]"
      ]
     },
     "execution_count": 180,
     "metadata": {},
     "output_type": "execute_result"
    }
   ],
   "source": [
    "PoPoglav"
   ]
  },
  {
   "cell_type": "markdown",
   "metadata": {},
   "source": [
    "Iz tabele same je zelo nepregledno karkoli sklepati / opaziti, zato si oglejmo graf števila besed glede na poglavja in komentirajmo izzid."
   ]
  },
  {
   "cell_type": "code",
   "execution_count": null,
   "metadata": {},
   "outputs": [
    {
     "data": {
      "text/plain": [
       "<AxesSubplot:xlabel='St. poglavja'>"
      ]
     },
     "execution_count": 223,
     "metadata": {},
     "output_type": "execute_result"
    },
    {
     "data": {
      "image/png": "[encoded data removed]",
      "text/plain": [
       "<Figure size 432x288 with 1 Axes>"
      ]
     },
     "metadata": {
      "needs_background": "light"
     },
     "output_type": "display_data"
    }
   ],
   "source": [
    "PoPoglav.plot(xticks=(0,10,20,30,38), kind=\"bar\")\n",
    "# xticks=(-||-), ker bi sicer na x-osi bila napisana števila vseh poglavij od 1-38, bi bilo messy # "
   ]
  },
  {
   "cell_type": "markdown",
   "metadata": {},
   "source": [
    "Opazimo približno pričakovan vzorec. Na popolnem začetku kratko poglavje ter na koncu knjige tri zelo kratka poglavja. To je složno s tem, da avtorji na začetku naredijo krajši uvod ter na koncu po razpletu krajši, morda poetičen konec. Vidimo pa, da takoj za krajšim uvodom in pred krajšim koncem, naletimo na poglavja, ki so dosti daljša, kar kaže na to, da sem tam verjetno začne zaplet ter razplet (po uvodu / pred koncem). Na sredini knjige pa vidimo, da so poglavja dokaj enakomerna po dolžini, čeprav še vedno močno nihajo, kar je pričakovano, saj je poglavja napisal človek ne stroj. "
   ]
  },
  {
   "cell_type": "markdown",
   "metadata": {},
   "source": [
    "Komentar: \\\n",
    "V hipotezi sem komentiral, da pričakujem da bo 4. del najdaljši, ker vsebuje največ poglavij. (20.-32.). Vidimo, da so poglavja od 20. do 32. dejansko zelo kratka, kar bi lahko razložili s tem, da so krajša ker vsaka opisuje svoj umor ali razlago predhodnega umora, kar razloži zakaj niso predolga. Vidimo, da takoj po teh poglavjih pride 5. del, kjer pa so zelo obsežna poglavja, kar bi pričakovali, saj gre za razplet. Torej so dolžine poglavij res povezane s tem, kaj se dogaja v knjigi oz. so povezana s temo in dogajanjem."
   ]
  },
  {
   "cell_type": "markdown",
   "metadata": {},
   "source": [
    "## Analiza pojavitev črk v knjigi"
   ]
  },
  {
   "cell_type": "markdown",
   "metadata": {},
   "source": [
    "### Frekvenca pojavitev črk v knjigi ter odstotek"
   ]
  },
  {
   "cell_type": "markdown",
   "metadata": {},
   "source": [
    "Tukaj imamo tabelo v kateri so črke norveške abecede ter število njihovih pojavitev v knjigi in delež le-teh glede na celo knjigo."
   ]
  },
  {
   "cell_type": "code",
   "execution_count": null,
   "metadata": {},
   "outputs": [
    {
     "data": {
      "text/html": [
       "<div>\n",
       "<style scoped>\n",
       "    .dataframe tbody tr th:only-of-type {\n",
       "        vertical-align: middle;\n",
       "    }\n",
       "\n",
       "    .dataframe tbody tr th {\n",
       "        vertical-align: top;\n",
       "    }\n",
       "\n",
       "    .dataframe thead th {\n",
       "        text-align: right;\n",
       "    }\n",
       "</style>\n",
       "<table border=\"1\" class=\"dataframe\">\n",
       "  <thead>\n",
       "    <tr style=\"text-align: right;\">\n",
       "      <th></th>\n",
       "      <th>Frekvenca crke v knjigi</th>\n",
       "      <th>Procent crke v knjigi</th>\n",
       "    </tr>\n",
       "    <tr>\n",
       "      <th>Crka</th>\n",
       "      <th></th>\n",
       "      <th></th>\n",
       "    </tr>\n",
       "  </thead>\n",
       "  <tbody>\n",
       "    <tr>\n",
       "      <th>e</th>\n",
       "      <td>89748</td>\n",
       "      <td>15.65</td>\n",
       "    </tr>\n",
       "    <tr>\n",
       "      <th>t</th>\n",
       "      <td>50304</td>\n",
       "      <td>8.77</td>\n",
       "    </tr>\n",
       "    <tr>\n",
       "      <th>n</th>\n",
       "      <td>48580</td>\n",
       "      <td>8.47</td>\n",
       "    </tr>\n",
       "    <tr>\n",
       "      <th>r</th>\n",
       "      <td>42209</td>\n",
       "      <td>7.36</td>\n",
       "    </tr>\n",
       "    <tr>\n",
       "      <th>a</th>\n",
       "      <td>38897</td>\n",
       "      <td>6.78</td>\n",
       "    </tr>\n",
       "    <tr>\n",
       "      <th>...</th>\n",
       "      <td>...</td>\n",
       "      <td>...</td>\n",
       "    </tr>\n",
       "    <tr>\n",
       "      <th>à</th>\n",
       "      <td>3</td>\n",
       "      <td>0.00</td>\n",
       "    </tr>\n",
       "    <tr>\n",
       "      <th>á</th>\n",
       "      <td>1</td>\n",
       "      <td>0.00</td>\n",
       "    </tr>\n",
       "    <tr>\n",
       "      <th>ô</th>\n",
       "      <td>1</td>\n",
       "      <td>0.00</td>\n",
       "    </tr>\n",
       "    <tr>\n",
       "      <th>è</th>\n",
       "      <td>1</td>\n",
       "      <td>0.00</td>\n",
       "    </tr>\n",
       "    <tr>\n",
       "      <th>ò</th>\n",
       "      <td>1</td>\n",
       "      <td>0.00</td>\n",
       "    </tr>\n",
       "  </tbody>\n",
       "</table>\n",
       "<p>37 rows × 2 columns</p>\n",
       "</div>"
      ],
      "text/plain": [
       "      Frekvenca crke v knjigi  Procent crke v knjigi\n",
       "Crka                                                \n",
       "e                       89748                  15.65\n",
       "t                       50304                   8.77\n",
       "n                       48580                   8.47\n",
       "r                       42209                   7.36\n",
       "a                       38897                   6.78\n",
       "...                       ...                    ...\n",
       "à                           3                   0.00\n",
       "á                           1                   0.00\n",
       "ô                           1                   0.00\n",
       "è                           1                   0.00\n",
       "ò                           1                   0.00\n",
       "\n",
       "[37 rows x 2 columns]"
      ]
     },
     "execution_count": 186,
     "metadata": {},
     "output_type": "execute_result"
    }
   ],
   "source": [
    "crka_st = pd.read_csv('.\\csv_file_3.csv', index_col='Crka')\n",
    "crka_ods = pd.read_csv('.\\csv_file_4.csv', index_col='Crka')\n",
    "\n",
    "crka_skupaj = pd.merge(crka_st, crka_ods, on='Crka')\n",
    "\n",
    "uradni_podatki = pd.read_csv('.\\csv_file_uradni_podatki.csv', index_col='Crka')\n",
    "neuradno_uradno = pd.merge(crka_ods, uradni_podatki, on=\"Crka\")\n",
    "\n",
    "crka_skupaj"
   ]
  },
  {
   "cell_type": "markdown",
   "metadata": {},
   "source": [
    "Iz te tabele vidimo morda bolj za zanimivost kot kaj drugega, kako pogosto se pojavijo različne črke v knjigi, zraven pa te črke spremlja še odstotek, da dobimo boljši občutek.  \n",
    "\\\n",
    "Zanimivost: \\\n",
    "(podatki za zanimivost se najdejo na linku: https://pi.math.cornell.edu/~mec/2003-2004/cryptography/subs/frequencies.html) \\\n",
    "Očitno \"e- 15.7%\" močno vodi pred ostalimi ter \"t- 8.7%\" in \"n- 8.5%\", če primerjamo z angleško abecedo, sta tudi tam \"e- 12.0%\" in \n",
    "\"t- 9.1%\" najpogostejša, a je sta v angleščini tudi \"o- 7.7%\" in \"i- 7.3%\" bolj pogosta kot v norveščini, kjer sta oba med 4% in 5%. Razlog za to bi znal biti ta, da norvežani ne radi podvojijo samoglasnikov kot angleži, oni raje v nasprotju z angleščino kopičijo soglasnike.   \n",
    "\\\n",
    "Primer:\n",
    "- \"smooth, spoon, boom, broom,...\" , \n",
    "- \"brann(ogenj), skritt(korak), takk(hvala), ...\"."
   ]
  },
  {
   "cell_type": "markdown",
   "metadata": {},
   "source": [
    "Sedaj si oglejmo graf, ki prikazuje odstotke teh črk glede na celotno knjigo. "
   ]
  },
  {
   "cell_type": "code",
   "execution_count": null,
   "metadata": {},
   "outputs": [
    {
     "data": {
      "text/plain": [
       "<AxesSubplot:xlabel='Crka'>"
      ]
     },
     "execution_count": 183,
     "metadata": {},
     "output_type": "execute_result"
    },
    {
     "data": {
      "image/png": "[encoded data removed]",
      "text/plain": [
       "<Figure size 432x288 with 1 Axes>"
      ]
     },
     "metadata": {
      "needs_background": "light"
     },
     "output_type": "display_data"
    }
   ],
   "source": [
    "crka_ods.plot(kind=\"bar\")"
   ]
  },
  {
   "cell_type": "markdown",
   "metadata": {},
   "source": [
    "Sedaj bomo prikazane podatke primerjali s podatki, ki so jih dobili pri precej večji raziskavi, do katere dostopate z linkom:\n",
    "https://www.sttmedia.com/characterfrequency-norwegian#letters  \n"
   ]
  },
  {
   "cell_type": "code",
   "execution_count": null,
   "metadata": {},
   "outputs": [
    {
     "data": {
      "text/plain": [
       "<AxesSubplot:xlabel='Crka'>"
      ]
     },
     "execution_count": 184,
     "metadata": {},
     "output_type": "execute_result"
    },
    {
     "data": {
      "image/png": "[encoded data removed]",
      "text/plain": [
       "<Figure size 432x288 with 1 Axes>"
      ]
     },
     "metadata": {
      "needs_background": "light"
     },
     "output_type": "display_data"
    }
   ],
   "source": [
    "neuradno_uradno.plot()"
   ]
  },
  {
   "cell_type": "code",
   "execution_count": null,
   "metadata": {},
   "outputs": [
    {
     "data": {
      "text/plain": [
       "<AxesSubplot:xlabel='Crka'>"
      ]
     },
     "execution_count": 185,
     "metadata": {},
     "output_type": "execute_result"
    },
    {
     "data": {
      "image/png": "[encoded data removed]",
      "text/plain": [
       "<Figure size 432x288 with 1 Axes>"
      ]
     },
     "metadata": {
      "needs_background": "light"
     },
     "output_type": "display_data"
    }
   ],
   "source": [
    "neuradno_uradno.plot(kind=\"bar\")"
   ]
  },
  {
   "cell_type": "markdown",
   "metadata": {},
   "source": [
    "Vidimo, da se naša grafa zelo lepo ujemata s podatki, ki so jih dobili pri obsežnejši uradni raziskavi v kateri so določili frekvence črk v norveškem jeziku, kar potrdi še mojo zadnjo hipotezo. To je bilo pričakovati, saj se zdi, da bi kriminalni roman z več kot 500 stranmi ter \n",
    "573464 črkami bil dovolj dober vzorec za dokaj kredibilen podatek o odstotku pojavitev črk v norveškem jeziku. \\\n",
    "Python: \\\n",
    "(>>> kolicina_vseh_crk \\\n",
    "573464)"
   ]
  }
 ],
 "metadata": {
  "interpreter": {
   "hash": "a843e01ee6240d94d16262a6c65a62f364e73f3e5bbc318fe16a31bf5db3532f"
  },
  "kernelspec": {
   "display_name": "Python 3.9.10 64-bit (windows store)",
   "language": "python",
   "name": "python3"
  },
  "language_info": {
   "codemirror_mode": {
    "name": "ipython",
    "version": 3
   },
   "file_extension": ".py",
   "mimetype": "text/x-python",
   "name": "python",
   "nbconvert_exporter": "python",
   "pygments_lexer": "ipython3",
   "version": "3.9.10"
  },
  "orig_nbformat": 4
 },
 "nbformat": 4,
 "nbformat_minor": 2
}
